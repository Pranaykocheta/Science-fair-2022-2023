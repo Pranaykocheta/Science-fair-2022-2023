{
  "nbformat": 4,
  "nbformat_minor": 0,
  "metadata": {
    "colab": {
      "provenance": []
    },
    "kernelspec": {
      "name": "python3",
      "display_name": "Python 3"
    },
    "language_info": {
      "name": "python"
    }
  },
  "cells": [
    {
      "cell_type": "code",
      "source": [
        "import os\n",
        "import nibabel as nib\n",
        "import numpy as np\n",
        "import matplotlib.pyplot as plt\n",
        "import gzip\n",
        "import shutil\n",
        "import sys\n",
        "import pickle as pkl\n"
      ],
      "metadata": {
        "id": "dBea4hA7UMvm"
      },
      "execution_count": 4,
      "outputs": []
    },
    {
      "cell_type": "code",
      "source": [
        "directory = '/content/drive/MyDrive/Science fair 2023/data/Task06_Lung/imagesTs'"
      ],
      "metadata": {
        "id": "fYkQX46PKdeO"
      },
      "execution_count": 8,
      "outputs": []
    },
    {
      "cell_type": "code",
      "source": [
        "#convert file into nii and delete gz\n",
        "#DONT RUN UNTIL MORE GOOGLE STORAGE\n",
        "\n",
        " \n",
        "# iterate over files in\n",
        "# that directory\n",
        "for filename in os.listdir(directory):\n",
        "    f = os.path.join(directory, filename)\n",
        "    filename2 = filename[:-3]\n",
        "    f2 = os.path.join(directory,filename2)\n",
        "    # checking if it is a file\n",
        "    if os.path.isfile(f):\n",
        "          with gzip.open(f, 'rb') as f_in:\n",
        "              with open(f2, 'wb') as f_out:\n",
        "                  shutil.copyfileobj(f_in, f_out)\n",
        "                  os.remove(f)\n"
      ],
      "metadata": {
        "id": "uE1UvGys7HR7"
      },
      "execution_count": 9,
      "outputs": []
    },
    {
      "cell_type": "code",
      "source": [
        "#use for reshape size subtract 1 for .ds file\n",
        "#update reshape size in next block\n",
        "\n",
        "x = 0; \n",
        "for filename in os.listdir(directory):\n",
        "      f = os.path.join(directory, filename)\n",
        "      if os.path.isfile(f):\n",
        "          x=x+1\n",
        "print(x)"
      ],
      "metadata": {
        "colab": {
          "base_uri": "https://localhost:8080/"
        },
        "id": "OZAXgwGjkyCi",
        "outputId": "a3785b1b-c650-4c43-c6d2-2d894a900a4f"
      },
      "execution_count": 6,
      "outputs": [
        {
          "output_type": "stream",
          "name": "stdout",
          "text": [
            "32\n"
          ]
        }
      ]
    },
    {
      "cell_type": "code",
      "source": [
        "#takes the size and puts into numpy array\n",
        "\n",
        "train_shape = np.array([4,4,4,4])\n",
        "\n",
        "for filename in os.listdir(directory):\n",
        "      f = os.path.join(directory, filename)\n",
        "      num = filename[5:8]\n",
        "      if os.path.isfile(f):\n",
        "          if(f[-3:] == 'nii'):\n",
        "            img = nib.load(f)\n",
        "            shape = img.shape\n",
        "            shape2 = np.asarray(shape)\n",
        "            shape2 = np.insert(shape2, 0, num, axis=0)\n",
        "            train_shape = np.concatenate((train_shape, shape2), axis=0)\n",
        "            \n",
        "            \n",
        "index = [0,1,2,3]\n",
        "train_shape = np.delete(train_shape,index)\n",
        "train_shape = train_shape.reshape(32,4)\n",
        "print(np.matrix(train_shape))"
      ],
      "metadata": {
        "id": "VhZe6HltCeeI"
      },
      "execution_count": null,
      "outputs": []
    },
    {
      "cell_type": "code",
      "source": [
        "np.save('test_numpy_array', train_shape,True)"
      ],
      "metadata": {
        "id": "fS4ETo6g7Vcy"
      },
      "execution_count": 12,
      "outputs": []
    },
    {
      "cell_type": "code",
      "source": [
        "reloaded_array = np.load('/content/drive/MyDrive/Science fair 2023/data/Task06_Lung/test_numpy_array.npy')\n",
        "print(reloaded_array)"
      ],
      "metadata": {
        "id": "-UYx6FtO8NOI"
      },
      "execution_count": null,
      "outputs": []
    }
  ]
}